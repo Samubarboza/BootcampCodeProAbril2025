{
 "cells": [
  {
   "cell_type": "code",
   "execution_count": null,
   "id": "94a3596a",
   "metadata": {},
   "outputs": [
    {
     "name": "stdout",
     "output_type": "stream",
     "text": [
      "2025\n"
     ]
    }
   ],
   "source": [
    "# Crear una función que imprima la variable palabra.\n",
    "palabra = 2025\n",
    "def funcion():\n",
    "    print(palabra)\n",
    "funcion()"
   ]
  },
  {
   "cell_type": "code",
   "execution_count": 16,
   "id": "8daa409c",
   "metadata": {},
   "outputs": [
    {
     "name": "stdout",
     "output_type": "stream",
     "text": [
      "2026\n"
     ]
    }
   ],
   "source": [
    "# Crear una función que imprima la variable palabra.\n",
    "def palabra_():\n",
    "    palabra_1 = 2026\n",
    "    print(palabra_1)\n",
    "palabra_()"
   ]
  },
  {
   "cell_type": "code",
   "execution_count": null,
   "id": "df5c948c",
   "metadata": {},
   "outputs": [
    {
     "name": "stdout",
     "output_type": "stream",
     "text": [
      "Las letras son iguales.\n"
     ]
    }
   ],
   "source": [
    "# Crear una función que reciba dos letras (parámetros) y que verifique si son iguales:\n",
    "\n",
    "# Si son iguales, imprimir \"Las letras son iguales\".\n",
    "\n",
    "# De lo contrario, imprimir \"Las letras son diferentes\".\n",
    "def letras():\n",
    "    letra_1 = input('Escriba una letra por favor: ')\n",
    "    letra_2 = input('Escriba una letra mas por favor: ')\n",
    "    if letra_1 == letra_2:\n",
    "        print('Las letras son iguales.')\n",
    "    else:\n",
    "        print('Las letras son diferentes.')\n",
    "letras()"
   ]
  },
  {
   "cell_type": "code",
   "execution_count": 24,
   "id": "8100c4d9",
   "metadata": {},
   "outputs": [
    {
     "name": "stdout",
     "output_type": "stream",
     "text": [
      "Las letras son diferentes.\n"
     ]
    }
   ],
   "source": [
    "def funcion_letra(letra_1, letra_2):\n",
    "    if letra_1 == letra_2:\n",
    "        print('Las letras son iguales.')\n",
    "    else:\n",
    "        print('Las letras son diferentes.')\n",
    "letrA = input('Escribe una letra')\n",
    "letRA = input('Escribe otra vuelta.')\n",
    "funcion_letra(letrA, letRA)"
   ]
  },
  {
   "cell_type": "code",
   "execution_count": 22,
   "id": "26f573a7",
   "metadata": {},
   "outputs": [
    {
     "name": "stdout",
     "output_type": "stream",
     "text": [
      "Las letras son diferentes.\n",
      "Las letras son iguales.\n"
     ]
    }
   ],
   "source": [
    "def funcionLetra(letra_n_1, letra_n_2):\n",
    "    if letra_n_1 == letra_n_2:\n",
    "        print('Las letras son iguales.')\n",
    "    else:\n",
    "        print('Las letras son diferentes.')\n",
    "funcionLetra('a', 'b')\n",
    "funcionLetra('a','a')"
   ]
  },
  {
   "cell_type": "code",
   "execution_count": 34,
   "id": "e924458d",
   "metadata": {},
   "outputs": [
    {
     "data": {
      "text/plain": [
       "False"
      ]
     },
     "execution_count": 34,
     "metadata": {},
     "output_type": "execute_result"
    }
   ],
   "source": [
    "# Crear una función que reciba dos parámetros (una palabra y un número), y que retorne True si el número es igual a la cantidad de letras de la palabra. En caso contrario, que retorne False.\n",
    "def funcion_(texto, numero):\n",
    "    if numero == len(texto):\n",
    "        return True\n",
    "    else:\n",
    "        return False\n",
    "texto_1 = input('Escribe una palabra: ')\n",
    "numero = int(input('Escribe un numero: '))\n",
    "funcion_(texto_1, numero)\n"
   ]
  },
  {
   "cell_type": "code",
   "execution_count": 82,
   "id": "40ec4acb",
   "metadata": {},
   "outputs": [
    {
     "name": "stdout",
     "output_type": "stream",
     "text": [
      "[['s', 'a', 'm', 'u', 'e', 'l']]\n",
      "[['s', 'a', 'm', 'u', 'e', 'l'], ['j', 'u', 'n', 'i', 'o', 'r']]\n",
      "[['s', 'a', 'm', 'u', 'e', 'l'], ['j', 'u', 'n', 'i', 'o', 'r'], ['b', 'a', 'r', 'b', 'o', 'z', 'a']]\n"
     ]
    }
   ],
   "source": [
    "#Pedir al usuario que ingrese 1 palabra, luego convertir esa palabra a una lista con sus caracteres con list(). Agregar esa lista de caracteres a una lista llamada palabras_ingresadas. Repetir el proceso 3 veces. Cada vez que se agregue una lista de caracteres, imprimir la lista palabras_ingresadas.\n",
    "primera_palabra = input('Ingresa una palabra:')\n",
    "convertir_primera_palabra = list(primera_palabra)\n",
    "print([convertir_primera_palabra])\n",
    "\n",
    "segunda_palabra = input('Por favor ingresa otra palabra:')\n",
    "convertir_segunda_palabra = list(segunda_palabra)\n",
    "print([convertir_primera_palabra, convertir_segunda_palabra])\n",
    "\n",
    "tercera_palabra = input('Por favor ingresa otra palabra:')\n",
    "convertir_tercera_palabra = list(tercera_palabra)\n",
    "print([convertir_primera_palabra, convertir_segunda_palabra, convertir_tercera_palabra])"
   ]
  },
  {
   "cell_type": "code",
   "execution_count": null,
   "id": "033b279d",
   "metadata": {},
   "outputs": [],
   "source": [
    "palabras_ingresadas = []\n",
    "for i in range(3):\n",
    "    palabra_user = input('Introduce una palabra crack:')\n",
    "    palabra_listeada = list(palabra_user)\n",
    "    palabras_ingresadas.append(palabra_listeada)\n",
    "    print(palabras_ingresadas)"
   ]
  },
  {
   "cell_type": "code",
   "execution_count": 97,
   "id": "1affcd1d",
   "metadata": {},
   "outputs": [
    {
     "name": "stdout",
     "output_type": "stream",
     "text": [
      "[['c', 'a', 'r', 'l', 'o', 's']]\n",
      "[['c', 'a', 'r', 'l', 'o', 's'], ['j', 'u', 'a', 'n', ' ']]\n",
      "[['c', 'a', 'r', 'l', 'o', 's'], ['j', 'u', 'a', 'n', ' '], ['l', 'o', 'c', 'o']]\n"
     ]
    }
   ],
   "source": [
    "palabras_ingresadas = []\n",
    "\n",
    "def Conteo():\n",
    "\n",
    "    Palabra_ingresada_usuario = input(\"Pon una palabra\")\n",
    "    palabra_descompuesta = list(Palabra_ingresada_usuario)\n",
    "    palabras_ingresadas.append(palabra_descompuesta)\n",
    "    print(palabras_ingresadas)\n",
    "\n",
    "Conteo()\n",
    "Conteo()\n",
    "Conteo()"
   ]
  },
  {
   "cell_type": "code",
   "execution_count": 96,
   "id": "5aa395ee",
   "metadata": {},
   "outputs": [
    {
     "name": "stdout",
     "output_type": "stream",
     "text": [
      "['h', 'o', 'l', 'i', 's']\n",
      "['h', 'e', 'l', 'l', 'o']\n",
      "['h', 'a', 'l', 'l', 'o']\n"
     ]
    }
   ],
   "source": [
    "# Crear una función que imprima una grilla (lista de listas), una línea por cada lista dentro de la lista principal.\n",
    "def grilla(Lista):\n",
    "    for i in Lista:\n",
    "        print(i)\n",
    "lista = [['h', 'o', 'l', 'i', 's'], ['h', 'e', 'l', 'l', 'o'], ['h', 'a', 'l', 'l', 'o']]\n",
    "grilla(lista)"
   ]
  },
  {
   "cell_type": "code",
   "execution_count": null,
   "id": "7cea4b4a",
   "metadata": {},
   "outputs": [
    {
     "ename": "TypeError",
     "evalue": "porgreso_del_jugador() missing 1 required positional argument: 'progreso'",
     "output_type": "error",
     "traceback": [
      "\u001b[31m---------------------------------------------------------------------------\u001b[39m",
      "\u001b[31mTypeError\u001b[39m                                 Traceback (most recent call last)",
      "\u001b[36mCell\u001b[39m\u001b[36m \u001b[39m\u001b[32mIn[108]\u001b[39m\u001b[32m, line 9\u001b[39m\n\u001b[32m      7\u001b[39m     palabras_ingresadas.append(palabra_descompuesta)\n\u001b[32m      8\u001b[39m     \u001b[38;5;28mprint\u001b[39m(progreso)\n\u001b[32m----> \u001b[39m\u001b[32m9\u001b[39m \u001b[43mporgreso_del_jugador\u001b[49m\u001b[43m(\u001b[49m\u001b[43m)\u001b[49m\n",
      "\u001b[31mTypeError\u001b[39m: porgreso_del_jugador() missing 1 required positional argument: 'progreso'"
     ]
    }
   ],
   "source": []
  },
  {
   "cell_type": "code",
   "execution_count": null,
   "id": "95c071ac",
   "metadata": {},
   "outputs": [],
   "source": []
  },
  {
   "cell_type": "markdown",
   "id": "ae02ad45",
   "metadata": {},
   "source": [
    "\n",
    "\n",
    "1. Define la palabra a adivinar\n",
    "Crea una variable que contenga la palabra que el jugador debe adivinar. Por ejemplo: \"Python\".\n",
    "Esta será la palabra que el jugador intentará adivinar letra por letra.\n",
    "2. Convierte la palabra en una lista de caracteres\n",
    "Usa list() para convertir la palabra en una lista de letras. Esto te permitirá trabajar con cada letra de forma individual.\n",
    "Ejemplo: \"Python\" se convierte en ['P', 'y', 't', 'h', 'o', 'n'].\n",
    "3. Crea una lista para el progreso del jugador\n",
    "Crea una lista que represente el progreso del jugador. Al inicio, esta lista estará llena de guiones bajos (_) para indicar que no se ha adivinado ninguna letra.\n",
    "Por ejemplo, si la palabra tiene 6 letras, el progreso inicial será: ['_', '_', '_', '_', '_', '_'].\n",
    "4. Crea una función para mostrar el progreso\n",
    "Define una función que recorra la lista de progreso y la imprima.\n",
    "Esta función mostrará al jugador las letras que ha adivinado correctamente y los guiones bajos para las letras que faltan.\n",
    "Ejemplo: Si el progreso es ['_', '_', 't', '_', '_', '_'], la función imprimirá eso.\n",
    "5. Crea un bucle para los intentos del jugador\n",
    "Usa un bucle while para permitir que el jugador ingrese letras.\n",
    "El bucle continuará hasta que el jugador adivine toda la palabra o se quede sin intentos (si decides limitar los intentos).\n",
    "6. Verifica si la letra ingresada está en la palabra\n",
    "Dentro del bucle, pide al jugador que ingrese una letra.\n",
    "Verifica si la letra ingresada está en la lista de caracteres de la palabra:\n",
    "Si está: Actualiza la lista de progreso reemplazando los guiones bajos con la letra correcta en las posiciones correspondientes.\n",
    "Si no está: Informa al jugador que la letra es incorrecta y, si tienes un límite de intentos, descuenta uno.\n",
    "7. Muestra el progreso después de cada intento\n",
    "Llama a la función que muestra el progreso después de cada intento para que el jugador vea cómo avanza.\n",
    "Esto le permitirá saber qué letras ha adivinado correctamente y cuáles faltan.\n",
    "8. Finaliza el juego\n",
    "Si el jugador adivina todas las letras, felicítalo con un mensaje como \"¡Felicidades, adivinaste la palabra!\".\n",
    "Si decides limitar los intentos y el jugador no adivina la palabra, muestra un mensaje indicando que perdió y revela la palabra correcta.\n",
    "Ejemplo de flujo:\n",
    "Define la palabra: \"Python\".\n",
    "Convierte a lista: ['P', 'y', 't', 'h', 'o', 'n'].\n",
    "Progreso inicial: ['_', '_', '_', '_', '_', '_'].\n",
    "El jugador ingresa letras:\n",
    "Ingresa \"t\", el progreso se actualiza a: ['_', '_', 't', '_', '_', '_'].\n",
    "Ingresa \"o\", el progreso se actualiza a: ['_', '_', 't', '_', 'o', '_'].\n",
    "Continúa hasta que adivine toda la palabra o se quede sin intentos.\n",
    "Si sigues estos pasos, tendrás un juego funcional y fácil de implementar. ¡Buena suerte!\n",
    "\n",
    "\n",
    "\n",
    "\n"
   ]
  }
 ],
 "metadata": {
  "kernelspec": {
   "display_name": "Python 3",
   "language": "python",
   "name": "python3"
  },
  "language_info": {
   "codemirror_mode": {
    "name": "ipython",
    "version": 3
   },
   "file_extension": ".py",
   "mimetype": "text/x-python",
   "name": "python",
   "nbconvert_exporter": "python",
   "pygments_lexer": "ipython3",
   "version": "3.13.1"
  }
 },
 "nbformat": 4,
 "nbformat_minor": 5
}
