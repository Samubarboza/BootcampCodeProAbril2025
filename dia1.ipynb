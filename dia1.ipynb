{
 "cells": [
  {
   "cell_type": "code",
   "execution_count": null,
   "id": "c24255a4",
   "metadata": {},
   "outputs": [
    {
     "name": "stdout",
     "output_type": "stream",
     "text": [
      "Hola, mundo\n",
      "manzana\n",
      "5\n",
      "naranja\n",
      "('manzana', 'pera')\n",
      "{'pera'}\n"
     ]
    }
   ],
   "source": [
    "print('Hola mundo')\n",
    "\n"
   ]
  },
  {
   "cell_type": "code",
   "execution_count": null,
   "id": "81476804",
   "metadata": {},
   "outputs": [],
   "source": [
    "nombre = 'Samuel'\n",
    "apellido = 'Barboza'\n",
    "print(nombre)\n",
    "print(apellido)\n",
    "print(nombre, apellido)"
   ]
  },
  {
   "cell_type": "code",
   "execution_count": null,
   "id": "157e4de6",
   "metadata": {},
   "outputs": [],
   "source": [
    "frutas = 'manzana'\n",
    "print(frutas)\n",
    "cantidad_de_frutas = 5\n",
    "print(cantidad_de_frutas)\n",
    "frutas = 'naranja'\n",
    "print(frutas)"
   ]
  },
  {
   "cell_type": "code",
   "execution_count": null,
   "id": "31c297b0",
   "metadata": {},
   "outputs": [],
   "source": [
    "print(frutas)\n",
    "frutas = ('narana, pera')\n",
    "print(frutas)"
   ]
  },
  {
   "cell_type": "code",
   "execution_count": null,
   "id": "13b197dc",
   "metadata": {},
   "outputs": [],
   "source": [
    "# suma +\n",
    "#resta -\n",
    "# multiplicacion *\n",
    "# division /\n",
    "# division entera //\n",
    "# modulo %\n",
    "# exponenciacion **\n"
   ]
  },
  {
   "cell_type": "code",
   "execution_count": null,
   "id": "c3c32065",
   "metadata": {},
   "outputs": [
    {
     "name": "stdout",
     "output_type": "stream",
     "text": [
      "35000\n",
      "30000\n",
      "76000\n"
     ]
    }
   ],
   "source": [
    "precio_total = 15000 + 20000\n",
    "print(precio_total)\n",
    "precio_descuento = precio_total - 5000\n",
    "print(precio_descuento)\n",
    "\n",
    "precio_gaseosa = 19000\n",
    "cantidad = 4 \n",
    "costo_total = precio_gaseosa * cantidad\n",
    "print(costo_total)\n",
    "\n",
    "\n"
   ]
  },
  {
   "cell_type": "code",
   "execution_count": 21,
   "id": "0f90638c",
   "metadata": {},
   "outputs": [
    {
     "name": "stdout",
     "output_type": "stream",
     "text": [
      "15200.0\n"
     ]
    }
   ],
   "source": [
    "gaseosa = 19000\n",
    "cantidad = 4\n",
    "personas = 5\n",
    "total_por_persona = (gaseosa * cantidad) / personas\n",
    "print(total_por_persona)\n"
   ]
  },
  {
   "cell_type": "code",
   "execution_count": 24,
   "id": "91019b77",
   "metadata": {},
   "outputs": [
    {
     "name": "stdout",
     "output_type": "stream",
     "text": [
      "35\n",
      "20\n",
      "33\n"
     ]
    }
   ],
   "source": [
    "cantidad_de_manzanas = 20\n",
    "cantidad_de_naranjas = 15\n",
    "cantidad_de_frutas = cantidad_de_manzanas + cantidad_de_naranjas\n",
    "print(cantidad_de_frutas)\n",
    "\n",
    "frutas_vendidas = 15\n",
    "frutas_restantes = cantidad_de_frutas - frutas_vendidas\n",
    "print(frutas_restantes)\n",
    "\n",
    "naranja = 10\n",
    "pera = 15\n",
    "banana = 8\n",
    "total = naranja + pera + banana\n",
    "print(total)\n",
    "\n",
    "\n"
   ]
  },
  {
   "cell_type": "code",
   "execution_count": null,
   "id": "194be936",
   "metadata": {},
   "outputs": [
    {
     "name": "stdout",
     "output_type": "stream",
     "text": [
      "Hola me llamo Fabrizio Vera. Mucho gusto.\n"
     ]
    }
   ],
   "source": [
    "nombre = 'Fabrizio'\n",
    "apellido = 'Vera'\n",
    "print(f'Hola me llamo {nombre} {apellido}. Mucho gusto.')"
   ]
  },
  {
   "cell_type": "code",
   "execution_count": null,
   "id": "ff395bb4",
   "metadata": {},
   "outputs": [],
   "source": []
  },
  {
   "cell_type": "code",
   "execution_count": 29,
   "id": "e00b786f",
   "metadata": {},
   "outputs": [
    {
     "name": "stdout",
     "output_type": "stream",
     "text": [
      "Mucho gusto Samuel, tenes 29 años y medis 1.7 metros. \n"
     ]
    }
   ],
   "source": [
    "nombre = input('Escribe tu nombre por favor: ')\n",
    "edad = int(input('Escribe tu edad por favor: '))\n",
    "altura = float(input('Escribe tu altura por favor: '))\n",
    "casado = input('¿Estas casado? SI/NO:')\n",
    "print(f'Mucho gusto {nombre}, tenes {edad} años y medis {altura} metros. ')\n"
   ]
  },
  {
   "cell_type": "code",
   "execution_count": 31,
   "id": "78a38d93",
   "metadata": {},
   "outputs": [
    {
     "name": "stdout",
     "output_type": "stream",
     "text": [
      "20\n"
     ]
    }
   ],
   "source": [
    "numero1 = int(input('Escribe un numero: '))\n",
    "numero2 = int(input('Escribe otro numero: '))\n",
    "suma = numero1 + numero2\n",
    "print(suma)"
   ]
  },
  {
   "cell_type": "code",
   "execution_count": null,
   "id": "dbc2f265",
   "metadata": {},
   "outputs": [
    {
     "name": "stdout",
     "output_type": "stream",
     "text": [
      "La suma de ambos numeros da: 30\n"
     ]
    }
   ],
   "source": [
    "numero1 = int(input('Ingresa un numero: '))\n",
    "numero2 = int(input('Ingresa otro numero: '))\n",
    "print(f'La suma de ambos numeros da: {numero1 + numero2}')\n"
   ]
  },
  {
   "cell_type": "code",
   "execution_count": null,
   "id": "baf6aa8a",
   "metadata": {},
   "outputs": [
    {
     "name": "stdout",
     "output_type": "stream",
     "text": [
      "La suma de la variable a + b da: 30\n",
      "La resta de la variable a - b: -10\n",
      "La multiplicacion de la variable a * b da: 200\n",
      "La division de la variable a / b da: 0.5\n",
      "El valor de a ** b da: 100000000000000000000\n",
      "La division de piso de a // b da: 0\n",
      "\n",
      "Abrir pan\n",
      "agregar jamon\n",
      "agregar queso\n",
      "cerrar pan\n",
      "comer\n",
      "\n",
      "Aqui la suma de los valores que ingresa el usuario:\n",
      "30 + 40:  70\n",
      "True\n",
      "Abrir pan\n",
      "agregar huevo\n",
      "cerrar pan\n",
      "comer\n",
      "Abrir pan\n",
      "agregar tomate y lechuga\n",
      "cerrar pan\n",
      "comer\n"
     ]
    }
   ],
   "source": [
    "a = int(input('Escribe un numero: '))\n",
    "b = int(input('Escribe otro numero: '))\n",
    "def suma():\n",
    "    print(f'La suma de la variable a + b da: {a + b}')\n",
    "    print(f'La resta de la variable a - b: {a - b}')\n",
    "    print(f'La multiplicacion de la variable a * b da: {a * b}')\n",
    "    print(f'La division de la variable a / b da: {a / b}')\n",
    "    print(f'El valor de a ** b da: {a ** b}')\n",
    "    print(f'La division de piso de a // b da: {a // b}')\n",
    "suma()\n",
    "\n",
    "print() \n",
    "\n",
    "def preparar_sandwich():\n",
    "    print('Abrir pan')\n",
    "    print('agregar jamon')\n",
    "    print('agregar queso')\n",
    "    print('cerrar pan')\n",
    "    print('comer')\n",
    "    \n",
    "preparar_sandwich()\n",
    "\n",
    "print()\n",
    "\n",
    "num_one = int(input('Escribe un numero: '))\n",
    "num_two = int(input('Escribe otro numero: '))\n",
    "def divague():\n",
    "    print('Aqui la suma de los valores que ingresa el usuario:')\n",
    "    print(f'{num_one} + {num_two}: ', num_one + num_two)\n",
    "    print(True)\n",
    "divague()\n",
    "\n",
    "\n",
    "\n",
    "\n",
    "\n",
    "\n"
   ]
  },
  {
   "cell_type": "code",
   "execution_count": 52,
   "id": "9dac1562",
   "metadata": {},
   "outputs": [
    {
     "name": "stdout",
     "output_type": "stream",
     "text": [
      "Abrir pan\n",
      "agregar huevo\n",
      "cerrar pan\n",
      "comer\n",
      "Abrir pan\n",
      "agregar tomate y lechuga\n",
      "cerrar pan\n",
      "comer\n"
     ]
    }
   ],
   "source": [
    "def preparar_sandwich(ingredientes):\n",
    "    print('Abrir pan')\n",
    "    print(f'agregar {ingredientes}')\n",
    "    print('cerrar pan')\n",
    "    print('comer')\n",
    "    \n",
    "preparar_sandwich('huevo')\n",
    "preparar_sandwich('tomate y lechuga')\n",
    "\n"
   ]
  },
  {
   "cell_type": "code",
   "execution_count": 55,
   "id": "db88722a",
   "metadata": {},
   "outputs": [
    {
     "name": "stdout",
     "output_type": "stream",
     "text": [
      "El auto tiene 12 ruedas.\n",
      "El auto tiene 12 motores.\n"
     ]
    }
   ],
   "source": [
    "repuesto_1 = int(input('Cuantas ruedas tiene un auto?: '))\n",
    "repuesto_2 = int(input('Cuantos motores tiene un auto: '))\n",
    "def auto():\n",
    "    print(f'El auto tiene {repuesto_1} ruedas.')\n",
    "    print(f'El auto tiene {repuesto_2} motores.')\n",
    "auto()"
   ]
  },
  {
   "cell_type": "code",
   "execution_count": 57,
   "id": "79ae4dd7",
   "metadata": {},
   "outputs": [
    {
     "name": "stdout",
     "output_type": "stream",
     "text": [
      "Pan\n",
      "Carne\n",
      "Queso cheddar\n",
      "Lechuga\n",
      "Tomate\n"
     ]
    }
   ],
   "source": [
    "def hamburguesa(ingredientes):\n",
    "    print('Pan')\n",
    "    print('Carne')\n",
    "    print(ingredientes)\n",
    "    print('Lechuga')\n",
    "    print('Tomate')\n",
    "    \n",
    "hamburguesa('Queso cheddar')\n",
    "\n"
   ]
  },
  {
   "cell_type": "code",
   "execution_count": 74,
   "id": "93d7549d",
   "metadata": {},
   "outputs": [
    {
     "name": "stdout",
     "output_type": "stream",
     "text": [
      "bombo\n",
      "caja\n",
      "crash\n"
     ]
    }
   ],
   "source": [
    "def bateria(platos):\n",
    "    print('bombo')\n",
    "    print('caja')\n",
    "    print(platos)\n",
    "    \n",
    "bateria('crash')\n"
   ]
  }
 ],
 "metadata": {
  "kernelspec": {
   "display_name": "Python 3",
   "language": "python",
   "name": "python3"
  },
  "language_info": {
   "codemirror_mode": {
    "name": "ipython",
    "version": 3
   },
   "file_extension": ".py",
   "mimetype": "text/x-python",
   "name": "python",
   "nbconvert_exporter": "python",
   "pygments_lexer": "ipython3",
   "version": "3.13.1"
  }
 },
 "nbformat": 4,
 "nbformat_minor": 5
}
