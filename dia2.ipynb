{
 "cells": [
  {
   "cell_type": "code",
   "execution_count": 7,
   "id": "d944d72b",
   "metadata": {},
   "outputs": [
    {
     "name": "stdout",
     "output_type": "stream",
     "text": [
      "Buen dia Samuel\n"
     ]
    }
   ],
   "source": [
    "def saludo_bienvenida(nombre):\n",
    "    print(f'Buen dia {nombre}')\n",
    "saludo_bienvenida('Samuel')"
   ]
  },
  {
   "cell_type": "code",
   "execution_count": 30,
   "id": "3327aca6",
   "metadata": {},
   "outputs": [
    {
     "name": "stdout",
     "output_type": "stream",
     "text": [
      "Podes hacer lo que quieras.\n"
     ]
    }
   ],
   "source": [
    "edad = int(input('Ingresa tu edad: '))\n",
    "if edad < 18:\n",
    "    print('Juguito nomas')\n",
    "elif edad < 21:\n",
    "    print('Podes tomar pero no comprar')\n",
    "else:\n",
    "    print('Podes hacer lo que quieras.')\n",
    "\n"
   ]
  },
  {
   "cell_type": "code",
   "execution_count": 99,
   "id": "bb2c55c0",
   "metadata": {},
   "outputs": [
    {
     "name": "stdout",
     "output_type": "stream",
     "text": [
      "Esta Fresquete, la temperatura actual es de: 10.0°C\n"
     ]
    }
   ],
   "source": [
    "temperatura = float(input('Por favor ingresa la temperatura:'))\n",
    "if temperatura >= -10 and temperatura <=18:\n",
    "    print(f'Esta Fresquete, la temperatura actual es de: {temperatura}°C')\n",
    "elif temperatura > 18 or temperatura <= 30:\n",
    "    print(f'Hace calor, la temperatura actual es de: {temperatura}°C')\n",
    "elif temperatura >= 31 and temperatura <= 45:\n",
    "    print(f'Hace mucho calor, la temperatura actual es de: {temperatura}°C')\n",
    "else:\n",
    "    print(\"Nde tavy!! Ñamano mba'e\")\n",
    "\n"
   ]
  },
  {
   "cell_type": "code",
   "execution_count": 103,
   "id": "705e144b",
   "metadata": {},
   "outputs": [
    {
     "name": "stdout",
     "output_type": "stream",
     "text": [
      "Contraseña correcta!\n"
     ]
    }
   ],
   "source": [
    "# Bucles \n",
    "\n",
    "contraseña = 'santipeña123'\n",
    "contraseña_usuario = input('Por favor ingresa la contraseña:')\n",
    "while contraseña_usuario != contraseña:\n",
    "    print('Contraseña incorrecta')\n",
    "    contraseña_usuario = input('Por favor ingresa la contraseña:')\n",
    "print('Contraseña correcta!')"
   ]
  },
  {
   "cell_type": "code",
   "execution_count": null,
   "id": "8de24aa9",
   "metadata": {},
   "outputs": [],
   "source": []
  },
  {
   "cell_type": "code",
   "execution_count": 109,
   "id": "11588f03",
   "metadata": {},
   "outputs": [
    {
     "name": "stdout",
     "output_type": "stream",
     "text": [
      "Contraseña correcta!\n"
     ]
    }
   ],
   "source": [
    "contraseña = 'santipeña123'\n",
    "contraseña_usuario = input('Por favor ingresa la contraseña:')\n",
    "while True:\n",
    "    if contraseña_usuario == contraseña:\n",
    "        break\n",
    "    else:\n",
    "        print('Contraseña incorrecta')\n",
    "        contraseña_usuario = input('Por favor ingresa la contraseña:')\n",
    "print('Contraseña correcta!')"
   ]
  },
  {
   "cell_type": "code",
   "execution_count": 114,
   "id": "cd9b536d",
   "metadata": {},
   "outputs": [
    {
     "name": "stdout",
     "output_type": "stream",
     "text": [
      "Contraseña correcta!\n"
     ]
    }
   ],
   "source": [
    "contraseña = 'santipeña123'\n",
    "while True:\n",
    "    contraseña_usuario = input('Por favor ingresa la contraseña:')\n",
    "    if contraseña_usuario == contraseña:\n",
    "        break\n",
    "    elif contraseña_usuario != contraseña:\n",
    "        print('Contraseña incorrecta')\n",
    "    else:\n",
    "        print('Contraseña incorrecta')\n",
    "print('Contraseña correcta!')"
   ]
  },
  {
   "cell_type": "code",
   "execution_count": 9,
   "id": "20bec4eb",
   "metadata": {},
   "outputs": [
    {
     "name": "stdout",
     "output_type": "stream",
     "text": [
      "['Computadora', 'Celular', 'Mochila', 100, True]\n",
      "['Computadora', 'Tablet', 'Mochila', True, 'Guitarra']\n",
      "5\n"
     ]
    }
   ],
   "source": [
    "lista = ['Computadora', 'Celular', 'Mochila', 100, True]\n",
    "print(lista)\n",
    "\n",
    "lista.append('Guitarra')\n",
    "\n",
    "\n",
    "lista[1] = 'Tablet'\n",
    "\n",
    "\n",
    "lista.remove(100)\n",
    "print(lista)\n",
    "print(len(lista))\n",
    "\n"
   ]
  },
  {
   "cell_type": "code",
   "execution_count": 1,
   "id": "d8a11c36",
   "metadata": {},
   "outputs": [
    {
     "name": "stdout",
     "output_type": "stream",
     "text": [
      "Hola carlos, el resultado es 2\n",
      "Hola carlos, el resultado es 4\n",
      "Hola carlos, el resultado es 6\n",
      "Hola carlos, el resultado es 8\n",
      "Hola carlos, el resultado es 10\n",
      "Hola carlos, el resultado es 12\n",
      "Hola carlos, el resultado es 14\n",
      "Hola carlos, el resultado es 16\n",
      "Hola carlos, el resultado es 18\n",
      "Hola carlos, el resultado es 20\n"
     ]
    }
   ],
   "source": [
    "nombre = input('Por favor ingresa tu nombre:')\n",
    "for dato in range(1, 11):\n",
    "        print(f'Hola {nombre}, el resultado es {dato * 2}')"
   ]
  },
  {
   "cell_type": "code",
   "execution_count": 194,
   "id": "6d15f7f5",
   "metadata": {},
   "outputs": [
    {
     "name": "stdout",
     "output_type": "stream",
     "text": [
      "['Chevrolet', 'Peugeot', 'Renault']\n",
      "['Chevrolet', 'Peugeot', 'Renault']\n",
      "['Chevrolet', 'Peugeot', 'Renault']\n",
      "['Chevrolet', 'Peugeot', 'Renault']\n",
      "['Chevrolet', 'Peugeot', 'Renault']\n"
     ]
    }
   ],
   "source": [
    "lista = ['Coca', 'Toyota', 'Chevrolet', 'Peugeot', 'Renault']\n",
    "for i in lista:\n",
    "    i = [i for i in lista if len(i) > 6]\n",
    "    print(i)\n"
   ]
  },
  {
   "cell_type": "code",
   "execution_count": 200,
   "id": "aaf7245b",
   "metadata": {},
   "outputs": [
    {
     "name": "stdout",
     "output_type": "stream",
     "text": [
      "Barcelona\n",
      "Real Madrid\n",
      "River Plate\n"
     ]
    }
   ],
   "source": [
    "lista_1 = ['Barcelona', 'Boca', 'Real Madrid',  'River Plate']\n",
    "for equipo in lista_1:\n",
    "    if len(equipo) > 6:\n",
    "        print(equipo)"
   ]
  },
  {
   "cell_type": "code",
   "execution_count": 207,
   "id": "58d96515",
   "metadata": {},
   "outputs": [
    {
     "name": "stdout",
     "output_type": "stream",
     "text": [
      "Se encontró una \"o\"\n"
     ]
    }
   ],
   "source": [
    "frase = input('Por favor ingresa una frase:')\n",
    "for letra in frase:\n",
    "    if letra == 'o':\n",
    "        print('Se encontró una \"o\"')"
   ]
  },
  {
   "cell_type": "code",
   "execution_count": null,
   "id": "b40ac849",
   "metadata": {},
   "outputs": [],
   "source": []
  }
 ],
 "metadata": {
  "kernelspec": {
   "display_name": "Python 3",
   "language": "python",
   "name": "python3"
  },
  "language_info": {
   "codemirror_mode": {
    "name": "ipython",
    "version": 3
   },
   "file_extension": ".py",
   "mimetype": "text/x-python",
   "name": "python",
   "nbconvert_exporter": "python",
   "pygments_lexer": "ipython3",
   "version": "3.13.1"
  }
 },
 "nbformat": 4,
 "nbformat_minor": 5
}
